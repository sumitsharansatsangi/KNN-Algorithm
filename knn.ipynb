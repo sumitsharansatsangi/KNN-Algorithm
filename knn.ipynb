{
 "cells": [
  {
   "cell_type": "code",
   "execution_count": 1,
   "metadata": {},
   "outputs": [],
   "source": [
    "import numpy as np\n",
    "import pandas as pd\n",
    "import matplotlib.pyplot as plt\n",
    "from sklearn.model_selection import train_test_split \n",
    "from sklearn.metrics import accuracy_score\n",
    "import random"
   ]
  },
  {
   "cell_type": "code",
   "execution_count": 2,
   "metadata": {},
   "outputs": [],
   "source": [
    "def getAccuracy(testSet, predictions):\n",
    "    correct = 0\n",
    "    for x in range(len(testSet)):\n",
    "        if testSet[x][-1] == predictions[x]:\n",
    "            correct += 1\n",
    "    return (correct/float(len(testSet))) * 100.0"
   ]
  },
  {
   "cell_type": "code",
   "execution_count": 3,
   "metadata": {},
   "outputs": [],
   "source": [
    "def dataLoader(filename,split,k):\n",
    "    df=pd.read_csv(filename,header=None)\n",
    "    n=df.shape[1]\n",
    "    l=df.shape[0]\n",
    "    idx=range(l)\n",
    "    b=list(idx)\n",
    "    random.shuffle(b)\n",
    "    df1=[]\n",
    "    for i in range(n):\n",
    "        df2=[]\n",
    "        for j in range(l):\n",
    "            df2.append(df[i][b[j]])\n",
    "        df1.append(df2)\n",
    "    df=pd.DataFrame(df1)\n",
    "    df=df.T\n",
    "    x=df.iloc[:,0:n-1]\n",
    "    y=df.iloc[:,n-1:n]\n",
    "    x_train,x_test,y_train,y_test=train_test_split(x,y,test_size=split)\n",
    "    mt=y_train.shape[0]\n",
    "    nt=y_test.shape[0]\n",
    "    dist=[]\n",
    "    for i in range(nt):\n",
    "        dist1=[]\n",
    "        for j in range(mt):\n",
    "            dist1.append(sum(abs(x_train.iloc[j]-x_test.iloc[i])))\n",
    "        idx=np.argsort(dist1)[0:3]\n",
    "        dist.append(idx)\n",
    "    d=[]\n",
    "    for i in range(nt):\n",
    "        pred=y.iloc[dist[i]]\n",
    "        pred=pred.values.T.tolist()\n",
    "        d.append(max(pred[0],key=pred[0].count))\n",
    "    y_test=y_test.values.T.tolist()\n",
    "    y_test=y_test[0]\n",
    "    acc= accuracy_score(y_test,d)*100\n",
    "    return (acc,d,y_test) "
   ]
  },
  {
   "cell_type": "code",
   "execution_count": 4,
   "metadata": {},
   "outputs": [],
   "source": [
    "p=dataLoader('/home/sumit/Downloads/iris.csv',0.3,3)"
   ]
  },
  {
   "cell_type": "code",
   "execution_count": 5,
   "metadata": {},
   "outputs": [
    {
     "name": "stdout",
     "output_type": "stream",
     "text": [
      "Accuracy: 33.33333333333333\n"
     ]
    }
   ],
   "source": [
    "print(\"Accuracy:\",p[0])"
   ]
  },
  {
   "cell_type": "code",
   "execution_count": 6,
   "metadata": {},
   "outputs": [
    {
     "name": "stdout",
     "output_type": "stream",
     "text": [
      "Predicted value        Actual Value    \n",
      "Iris-versicolor    Iris-setosa\n",
      "Iris-versicolor    Iris-versicolor\n",
      "Iris-setosa    Iris-versicolor\n",
      "Iris-virginica    Iris-setosa\n",
      "Iris-versicolor    Iris-setosa\n",
      "Iris-virginica    Iris-virginica\n",
      "Iris-setosa    Iris-setosa\n",
      "Iris-setosa    Iris-versicolor\n",
      "Iris-versicolor    Iris-virginica\n",
      "Iris-virginica    Iris-setosa\n",
      "Iris-versicolor    Iris-setosa\n",
      "Iris-versicolor    Iris-setosa\n",
      "Iris-versicolor    Iris-setosa\n",
      "Iris-versicolor    Iris-versicolor\n",
      "Iris-setosa    Iris-versicolor\n",
      "Iris-virginica    Iris-virginica\n",
      "Iris-versicolor    Iris-setosa\n",
      "Iris-versicolor    Iris-versicolor\n",
      "Iris-versicolor    Iris-virginica\n",
      "Iris-versicolor    Iris-setosa\n",
      "Iris-virginica    Iris-versicolor\n",
      "Iris-versicolor    Iris-virginica\n",
      "Iris-virginica    Iris-virginica\n",
      "Iris-setosa    Iris-virginica\n",
      "Iris-versicolor    Iris-versicolor\n",
      "Iris-versicolor    Iris-virginica\n",
      "Iris-virginica    Iris-setosa\n",
      "Iris-virginica    Iris-versicolor\n",
      "Iris-setosa    Iris-virginica\n",
      "Iris-virginica    Iris-virginica\n",
      "Iris-versicolor    Iris-virginica\n",
      "Iris-virginica    Iris-virginica\n",
      "Iris-setosa    Iris-virginica\n",
      "Iris-versicolor    Iris-setosa\n",
      "Iris-virginica    Iris-virginica\n",
      "Iris-virginica    Iris-setosa\n",
      "Iris-versicolor    Iris-setosa\n",
      "Iris-versicolor    Iris-setosa\n",
      "Iris-virginica    Iris-virginica\n",
      "Iris-versicolor    Iris-setosa\n",
      "Iris-versicolor    Iris-versicolor\n",
      "Iris-setosa    Iris-virginica\n",
      "Iris-versicolor    Iris-setosa\n",
      "Iris-versicolor    Iris-versicolor\n",
      "Iris-versicolor    Iris-versicolor\n"
     ]
    }
   ],
   "source": [
    "l=len(p[1])\n",
    "print(\"Predicted value        \"+\"Actual Value    \")\n",
    "for i in range(l):\n",
    "   print(p[1][i]+\"    \"+p[2][i])"
   ]
  }
 ],
 "metadata": {
  "kernelspec": {
   "display_name": "Python 3",
   "language": "python",
   "name": "python3"
  },
  "language_info": {
   "codemirror_mode": {
    "name": "ipython",
    "version": 3
   },
   "file_extension": ".py",
   "mimetype": "text/x-python",
   "name": "python",
   "nbconvert_exporter": "python",
   "pygments_lexer": "ipython3",
   "version": "3.6.6"
  }
 },
 "nbformat": 4,
 "nbformat_minor": 2
}
